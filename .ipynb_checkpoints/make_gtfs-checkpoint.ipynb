{
 "metadata": {
  "name": "",
  "signature": "sha256:a0658975317dacc845224bb1588655802a803c0a2befbe179445aa1c1cf6a5a4"
 },
 "nbformat": 3,
 "nbformat_minor": 0,
 "worksheets": [
  {
   "cells": [
    {
     "cell_type": "code",
     "collapsed": false,
     "input": [
      "import json\n",
      "import sys\n",
      "\n",
      "import pandas as pd\n",
      "import numpy as np\n",
      "import shapely\n",
      "from shapely.ops import transform\n",
      "from shapely.geometry import Point, shape, mapping\n",
      "import utm\n",
      "\n",
      "home = '/Users/araichev/make_gtfs/'\n",
      "sys.path.append(home)\n",
      "from feed import *\n",
      "\n",
      "%load_ext autoreload\n",
      "%autoreload 2\n"
     ],
     "language": "python",
     "metadata": {},
     "outputs": [
      {
       "output_type": "stream",
       "stream": "stdout",
       "text": [
        "The autoreload extension is already loaded. To reload it, use:\n",
        "  %reload_ext autoreload\n"
       ]
      }
     ],
     "prompt_number": 52
    },
    {
     "cell_type": "code",
     "collapsed": false,
     "input": [
      "path = 'examples/test/'\n",
      "feed = Feed(path)"
     ],
     "language": "python",
     "metadata": {},
     "outputs": [],
     "prompt_number": 53
    },
    {
     "cell_type": "code",
     "collapsed": false,
     "input": [
      "# Create agency\n",
      "feed.create_agency()\n",
      "feed.agency"
     ],
     "language": "python",
     "metadata": {},
     "outputs": [
      {
       "html": [
        "<div style=\"max-height:1000px;max-width:1500px;overflow:auto;\">\n",
        "<table border=\"1\" class=\"dataframe\">\n",
        "  <thead>\n",
        "    <tr style=\"text-align: right;\">\n",
        "      <th></th>\n",
        "      <th>agency_name</th>\n",
        "      <th>agency_timezone</th>\n",
        "      <th>agency_url</th>\n",
        "    </tr>\n",
        "  </thead>\n",
        "  <tbody>\n",
        "    <tr>\n",
        "      <th>0</th>\n",
        "      <td> Auckland Transport</td>\n",
        "      <td> Pacific/Auckland</td>\n",
        "      <td> https://at.govt.nz/</td>\n",
        "    </tr>\n",
        "  </tbody>\n",
        "</table>\n",
        "</div>"
       ],
       "metadata": {},
       "output_type": "pyout",
       "prompt_number": 54,
       "text": [
        "          agency_name   agency_timezone           agency_url\n",
        "0  Auckland Transport  Pacific/Auckland  https://at.govt.nz/"
       ]
      }
     ],
     "prompt_number": 54
    },
    {
     "cell_type": "code",
     "collapsed": false,
     "input": [
      "# Create routes\n",
      "feed.create_routes()\n",
      "feed.routes"
     ],
     "language": "python",
     "metadata": {},
     "outputs": [
      {
       "html": [
        "<div style=\"max-height:1000px;max-width:1500px;overflow:auto;\">\n",
        "<table border=\"1\" class=\"dataframe\">\n",
        "  <thead>\n",
        "    <tr style=\"text-align: right;\">\n",
        "      <th></th>\n",
        "      <th>route_short_name</th>\n",
        "      <th>route_desc</th>\n",
        "      <th>route_type</th>\n",
        "      <th>route_id</th>\n",
        "    </tr>\n",
        "  </thead>\n",
        "  <tbody>\n",
        "    <tr>\n",
        "      <th>0</th>\n",
        "      <td> 010</td>\n",
        "      <td> City Link, Wynyard Quarter to Karangahape Rd v...</td>\n",
        "      <td> 3</td>\n",
        "      <td> r0</td>\n",
        "    </tr>\n",
        "    <tr>\n",
        "      <th>1</th>\n",
        "      <td> 020</td>\n",
        "      <td> Inner Link. Britomart, Three Lamps, Ponsonby, ...</td>\n",
        "      <td> 3</td>\n",
        "      <td> r1</td>\n",
        "    </tr>\n",
        "    <tr>\n",
        "      <th>2</th>\n",
        "      <td> 030</td>\n",
        "      <td> Grey Lynn to Auckland University via Richmond ...</td>\n",
        "      <td> 3</td>\n",
        "      <td> r2</td>\n",
        "    </tr>\n",
        "    <tr>\n",
        "      <th>3</th>\n",
        "      <td> 031</td>\n",
        "      <td> St Lukes to Auckland University via Richmond R...</td>\n",
        "      <td> 3</td>\n",
        "      <td> r3</td>\n",
        "    </tr>\n",
        "    <tr>\n",
        "      <th>4</th>\n",
        "      <td> 032</td>\n",
        "      <td> Westmere to Auckland University via Williamson...</td>\n",
        "      <td> 3</td>\n",
        "      <td> r4</td>\n",
        "    </tr>\n",
        "    <tr>\n",
        "      <th>5</th>\n",
        "      <td> 033</td>\n",
        "      <td> Benson Rd to Karangahape Rd via Remuera, Hobso...</td>\n",
        "      <td> 3</td>\n",
        "      <td> r5</td>\n",
        "    </tr>\n",
        "  </tbody>\n",
        "</table>\n",
        "</div>"
       ],
       "metadata": {},
       "output_type": "pyout",
       "prompt_number": 55,
       "text": [
        "  route_short_name                                         route_desc  \\\n",
        "0              010  City Link, Wynyard Quarter to Karangahape Rd v...   \n",
        "1              020  Inner Link. Britomart, Three Lamps, Ponsonby, ...   \n",
        "2              030  Grey Lynn to Auckland University via Richmond ...   \n",
        "3              031  St Lukes to Auckland University via Richmond R...   \n",
        "4              032  Westmere to Auckland University via Williamson...   \n",
        "5              033  Benson Rd to Karangahape Rd via Remuera, Hobso...   \n",
        "\n",
        "   route_type route_id  \n",
        "0           3       r0  \n",
        "1           3       r1  \n",
        "2           3       r2  \n",
        "3           3       r3  \n",
        "4           3       r4  \n",
        "5           3       r5  "
       ]
      }
     ],
     "prompt_number": 55
    },
    {
     "cell_type": "code",
     "collapsed": false,
     "input": [
      "# Convert shapes to Shapely linestrings in UTM coordinates\n",
      "def get_linestring_by_route(collection, use_utm=True):\n",
      "    \"\"\"\n",
      "    Given a GeoJSON feature collection of linestrings tagged with route IDs,\n",
      "    return a dictionary with structure\n",
      "    route_id -> Shapely linestring of shape.\n",
      "    If ``use_utm == True``, then return each linestring in\n",
      "    in UTM coordinates.\n",
      "    Otherwise, return each linestring in WGS84 longitude-latitude\n",
      "    coordinates.\n",
      "    \"\"\"\n",
      "    # Note the output for conversion to UTM with the utm package:\n",
      "    # >>> u = utm.from_latlon(47.9941214, 7.8509671)\n",
      "    # >>> print u\n",
      "    # (414278, 5316285, 32, 'T')\n",
      "    d = {}\n",
      "    if use_utm:\n",
      "        def proj(lon, lat):\n",
      "            return utm.from_latlon(lat, lon)[:2] \n",
      "    else:\n",
      "        def proj(lon, lat):\n",
      "            return lon, lat\n",
      "        \n",
      "    return {f['properties']['route_short_name']: transform(proj, shape(f['geometry']))\n",
      "      for f in collection['features']}\n",
      "\n",
      "linestring_by_route = get_linestring_by_route(shapes)\n",
      "print(len(linestring_by_route))\n",
      "linestring_by_route['010']    "
     ],
     "language": "python",
     "metadata": {},
     "outputs": [
      {
       "output_type": "stream",
       "stream": "stdout",
       "text": [
        "6\n"
       ]
      },
      {
       "metadata": {},
       "output_type": "pyout",
       "prompt_number": 20,
       "svg": [
        "<svg\n",
        "            preserveAspectRatio=\"xMinYMin meet\"\n",
        "            viewBox=\"300203.39852286916 5918547.343946268 844.8923602175782 1630.8682744223624\"\n",
        "            width=\"300\"\n",
        "            height=\"300\"\n",
        "            transform=\"translate(0, 300),scale(1, -1)\">\n",
        "            <polyline\n",
        "            fill=\"none\"\n",
        "            stroke=\"#66cc99\"\n",
        "            stroke-width=10.872455162815749\n",
        "            points=\"300900.7250378447,5920057.050566798 300931.1076130951,5920177.212869234 301047.2912520752,5920146.179648995 300998.8518999719,5919996.843045443 300955.56584775227,5920008.820048 300885.4944462738,5920036.822771634 300768.6251695099,5919544.290817002 300574.53362629807,5918963.244199382 300503.03721026995,5918991.431999914 300473.1939719933,5919008.606009572 300204.39839443885,5918753.62608826 300225.4671664089,5918578.160727674 300340.97997972206,5918548.343717085 300449.8502877918,5918550.674974611 300763.61438647925,5919560.159729235 300900.7250378447,5920057.050566798\"\n",
        "            opacity=\".8\"\n",
        "            />\n",
        "            </svg>"
       ],
       "text": [
        "<shapely.geometry.linestring.LineString at 0x1107460b8>"
       ]
      }
     ],
     "prompt_number": 20
    },
    {
     "cell_type": "code",
     "collapsed": false,
     "input": [],
     "language": "python",
     "metadata": {},
     "outputs": []
    }
   ],
   "metadata": {}
  }
 ]
}